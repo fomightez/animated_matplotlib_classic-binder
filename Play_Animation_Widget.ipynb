{
 "cells": [
  {
   "cell_type": "markdown",
   "id": "073e17b4-1d4a-4987-b3c8-072fa657b663",
   "metadata": {},
   "source": [
    "## Play Animation Widget\n",
    "\n",
    "Based on https://stackoverflow.com/q/76212356/8508004\n",
    "\n",
    "Also see https://ipywidgets.readthedocs.io/en/stable/examples/Widget%20List.html#play-animation-widget"
   ]
  },
  {
   "cell_type": "code",
   "execution_count": 10,
   "id": "43107eaf-3043-45a9-bfdb-5050c54d4f5c",
   "metadata": {},
   "outputs": [
    {
     "data": {
      "application/vnd.jupyter.widget-view+json": {
       "model_id": "60e32d5fc0db47f68a3eaf3f1b506413",
       "version_major": 2,
       "version_minor": 0
      },
      "text/plain": [
       "interactive(children=(Play(value=0, description='t', interval=200, max=15), Output()), _dom_classes=('widget-i…"
      ]
     },
     "metadata": {},
     "output_type": "display_data"
    }
   ],
   "source": [
    "# https://stackoverflow.com/q/76212356/8508004\n",
    "import ipywidgets as widgets\n",
    "from mpl_toolkits import mplot3d\n",
    "import numpy as np\n",
    "import matplotlib.pyplot as plt\n",
    "\n",
    "def theta(t):\n",
    "    fig = plt.figure(figsize=(10,10))\n",
    "    ax  = plt.axes(projection = \"3d\")\n",
    "    z   = np.linspace(0, t, 500)\n",
    "    x   = np.sin(z)\n",
    "    y   = np.cos(z)\n",
    "    ax.plot3D(x, y, z, 'red')\n",
    "    plt.show()\n",
    "    \n",
    "widgets.interact(theta, t = widgets.Play(min=0, max = 15, interval = 200), continuous_update = True);"
   ]
  },
  {
   "cell_type": "code",
   "execution_count": null,
   "id": "2b1b124c-dc79-4a61-a662-ac2608b5f798",
   "metadata": {},
   "outputs": [],
   "source": []
  }
 ],
 "metadata": {
  "kernelspec": {
   "display_name": "Python 3 (ipykernel)",
   "language": "python",
   "name": "python3"
  },
  "language_info": {
   "codemirror_mode": {
    "name": "ipython",
    "version": 3
   },
   "file_extension": ".py",
   "mimetype": "text/x-python",
   "name": "python",
   "nbconvert_exporter": "python",
   "pygments_lexer": "ipython3",
   "version": "3.10.10"
  }
 },
 "nbformat": 4,
 "nbformat_minor": 5
}
